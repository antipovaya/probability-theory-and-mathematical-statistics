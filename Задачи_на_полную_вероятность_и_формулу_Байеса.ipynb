{
  "nbformat": 4,
  "nbformat_minor": 0,
  "metadata": {
    "colab": {
      "provenance": [],
      "authorship_tag": "ABX9TyP/pRw1yuOtSHzn7ZFx7NvS",
      "include_colab_link": true
    },
    "kernelspec": {
      "name": "python3",
      "display_name": "Python 3"
    },
    "language_info": {
      "name": "python"
    }
  },
  "cells": [
    {
      "cell_type": "markdown",
      "metadata": {
        "id": "view-in-github",
        "colab_type": "text"
      },
      "source": [
        "<a href=\"https://colab.research.google.com/github/antipovaya/probability-theory-and-mathematical-statistics/blob/main/%D0%97%D0%B0%D0%B4%D0%B0%D1%87%D0%B8_%D0%BD%D0%B0_%D0%BF%D0%BE%D0%BB%D0%BD%D1%83%D1%8E_%D0%B2%D0%B5%D1%80%D0%BE%D1%8F%D1%82%D0%BD%D0%BE%D1%81%D1%82%D1%8C_%D0%B8_%D1%84%D0%BE%D1%80%D0%BC%D1%83%D0%BB%D1%83_%D0%91%D0%B0%D0%B9%D0%B5%D1%81%D0%B0.ipynb\" target=\"_parent\"><img src=\"https://colab.research.google.com/assets/colab-badge.svg\" alt=\"Open In Colab\"/></a>"
      ]
    },
    {
      "cell_type": "markdown",
      "source": [
        "Классическая задача: Точность медицинского теста\n",
        "\n",
        "Условие:\n",
        "Допустим, есть некая болезнь, которой в среднем болеет 1% населения (P(Болезнь) = 0.01).\n",
        "Есть тест на эту болезнь. Он обладает следующими характеристиками:\n",
        "\n",
        "Если человек болен, тест дает положительный результат с вероятностью 99% (P(+ | Болен) = 0.99).\n",
        "\n",
        "Если человек здоров, тест ошибочно дает положительный результат с вероятностью 5% (P(+ | Здоров) = 0.05).\n",
        "\n",
        "Вопрос:\n",
        "Человек сделал тест, и он положительный. Какова вероятность, что он действительно болен? (P(Болен | +) = ?)\\"
      ],
      "metadata": {
        "id": "BJmmumNfuUtS"
      }
    },
    {
      "cell_type": "code",
      "source": [
        "def bayes_theorem(p_a, p_b_given_a, p_b):\n",
        "    \"\"\"\n",
        "    Расчет по формуле Байеса.\n",
        "\n",
        "    Параметры:\n",
        "    p_a: Априорная вероятность гипотезы A (P(A))\n",
        "    p_b_given_a: P(B|A) Вероятность наступления события В, при условии, что гипотеза А верна.\n",
        "    p_b: Полная вероятность события В (P(B))\n",
        "    \"\"\"\n",
        "\n",
        "    # Применение формулы Байеса\n",
        "    p_a_given_b = (p_b_given_a * p_a) / p_b\n",
        "    return p_a_given_b"
      ],
      "metadata": {
        "id": "1F_ZtxjEujPq"
      },
      "execution_count": 1,
      "outputs": []
    },
    {
      "cell_type": "code",
      "source": [
        "def probability_b(*probabilities):\n",
        "  # Вычисляем полную вероятность\n",
        "  total = 0\n",
        "  for i in range(0, len(probabilities), 2):\n",
        "      p_hi = probabilities[i]      # P(H_i)\n",
        "      p_e_given_hi = probabilities[i+1]  # P(E|H_i)\n",
        "      total += p_hi * p_e_given_hi\n",
        "\n",
        "  return total"
      ],
      "metadata": {
        "id": "hs7cK9tLzZNL"
      },
      "execution_count": 5,
      "outputs": []
    },
    {
      "cell_type": "markdown",
      "source": [
        "P(Б) = вероятность болеть = 0,01  \n",
        "\n",
        "Р(З) = вероятность быть здоровым = 1 - 0,01 = 0,99  \n",
        "\n",
        "Р(+ | Б) = вероятность положительного теста, если болен = 0,99  \n",
        "\n",
        "Р(- | Б) = вероятность отрицательного теста, если болен = 1 - 0,99 = 0,01  \n",
        "\n",
        "Р(+ | З) = вероятность положительного теста, если здоров = 0,05  \n",
        "\n",
        "Р(- | З) = вероятность отрицательного теста, если здоров = 0,95\n",
        "\n",
        "Найти нужно Р(Б | - )\n"
      ],
      "metadata": {
        "id": "IFAf6h4R_f7s"
      }
    },
    {
      "cell_type": "code",
      "source": [
        "print(f\"Вероятность того, что человек болен при положительном тесте равна {bayes_theorem(0.01, 0.99, probability_b(0.01, 0.99, 0.99, 0.05))}\")"
      ],
      "metadata": {
        "colab": {
          "base_uri": "https://localhost:8080/"
        },
        "id": "ICSAQ_fk3_B9",
        "outputId": "022e72ec-5652-4b48-efe6-35950f1d3628"
      },
      "execution_count": 7,
      "outputs": [
        {
          "output_type": "stream",
          "name": "stdout",
          "text": [
            "Вероятность того, что человек болен при положительном тесте равна 0.16666666666666669\n"
          ]
        }
      ]
    }
  ]
}