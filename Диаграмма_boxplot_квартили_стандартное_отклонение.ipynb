{
  "nbformat": 4,
  "nbformat_minor": 0,
  "metadata": {
    "colab": {
      "provenance": [],
      "authorship_tag": "ABX9TyMtgL64fRxGW4zKeAoTjmvX",
      "include_colab_link": true
    },
    "kernelspec": {
      "name": "python3",
      "display_name": "Python 3"
    },
    "language_info": {
      "name": "python"
    }
  },
  "cells": [
    {
      "cell_type": "markdown",
      "metadata": {
        "id": "view-in-github",
        "colab_type": "text"
      },
      "source": [
        "<a href=\"https://colab.research.google.com/github/antipovaya/probability-theory-and-mathematical-statistics/blob/main/%D0%94%D0%B8%D0%B0%D0%B3%D1%80%D0%B0%D0%BC%D0%BC%D0%B0_boxplot_%D0%BA%D0%B2%D0%B0%D1%80%D1%82%D0%B8%D0%BB%D0%B8_%D1%81%D1%82%D0%B0%D0%BD%D0%B4%D0%B0%D1%80%D1%82%D0%BD%D0%BE%D0%B5_%D0%BE%D1%82%D0%BA%D0%BB%D0%BE%D0%BD%D0%B5%D0%BD%D0%B8%D0%B5.ipynb\" target=\"_parent\"><img src=\"https://colab.research.google.com/assets/colab-badge.svg\" alt=\"Open In Colab\"/></a>"
      ]
    },
    {
      "cell_type": "code",
      "source": [
        "'''Расчитываем размах и стандартное отклонение с помощью numpy'''\n",
        "import numpy as np\n",
        "sample = np.array([185, 175, 170, 169, 171, 175, 157, 172, 170, 172, 167, 173, 168, 167, 166,\n",
        "              167, 169, 172, 177, 178, 165, 161, 179, 159, 164, 178, 172, 170, 173, 171])\n",
        "\n",
        "print(f'Размах с помощью функции : {np.ptp(sample)}, размах вручную (max - min) : {np.max(sample)- np.min(sample)}')\n",
        "\n",
        "print(f'Стандартное отклонение (выборка мньше 100) несмещенное: {np.std(sample, ddof=1):.2f}')"
      ],
      "metadata": {
        "colab": {
          "base_uri": "https://localhost:8080/"
        },
        "id": "S_ft9lcBu0CO",
        "outputId": "a9cd9c90-2dab-4cdc-95c0-e9f2931440d1"
      },
      "execution_count": 3,
      "outputs": [
        {
          "output_type": "stream",
          "name": "stdout",
          "text": [
            "Размах с помощью функции : 28, размах вручную (max - min) : 28\n",
            "Стандартное отклонение (выборка мньше 100) несмещенное: 6.00\n"
          ]
        }
      ]
    },
    {
      "cell_type": "markdown",
      "source": [
        "**Диаграмма boxplot**"
      ],
      "metadata": {
        "id": "NikzdCO0v52p"
      }
    },
    {
      "cell_type": "code",
      "source": [
        "'''с помощью диаграммы boxplot мы можем узнать медиану, 2 и 3 квартиль'''\n",
        "import matplotlib.pyplot as plt\n",
        "\n",
        "\n",
        "plt.boxplot(sample, showfliers=1)\n",
        "plt.show()"
      ],
      "metadata": {
        "colab": {
          "base_uri": "https://localhost:8080/",
          "height": 430
        },
        "id": "KpZ_2fTKv1XX",
        "outputId": "b081462f-380e-4895-af24-b228e0b4d723"
      },
      "execution_count": 4,
      "outputs": [
        {
          "output_type": "display_data",
          "data": {
            "text/plain": [
              "<Figure size 640x480 with 1 Axes>"
            ],
            "image/png": "[encoded data removed]"
          },
          "metadata": {}
        }
      ]
    },
    {
      "cell_type": "markdown",
      "source": [
        "Квартили и inter quartile range (интерквартильное расстояние) используют, чтобы оценить наличие выбросов. Алгоритм расчета - посчитали квартили, посчитали разницу между ними, вычислили теоретический максимум и минимум, сравнили с имеющимся и выяснили есть ли у вас выбросы и сколько их. Если много, то нужно анализировать и решать брать ли их в выборку или нет."
      ],
      "metadata": {
        "id": "wrDZ_uPBwUye"
      }
    }
  ]
}