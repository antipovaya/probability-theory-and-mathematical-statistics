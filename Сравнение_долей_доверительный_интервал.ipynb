{
  "nbformat": 4,
  "nbformat_minor": 0,
  "metadata": {
    "colab": {
      "provenance": [],
      "authorship_tag": "ABX9TyM10av7O3gYxWGL5soXqdlx",
      "include_colab_link": true
    },
    "kernelspec": {
      "name": "python3",
      "display_name": "Python 3"
    },
    "language_info": {
      "name": "python"
    }
  },
  "cells": [
    {
      "cell_type": "markdown",
      "metadata": {
        "id": "view-in-github",
        "colab_type": "text"
      },
      "source": [
        "<a href=\"https://colab.research.google.com/github/antipovaya/probability-theory-and-mathematical-statistics/blob/main/%D0%A1%D1%80%D0%B0%D0%B2%D0%BD%D0%B5%D0%BD%D0%B8%D0%B5_%D0%B4%D0%BE%D0%BB%D0%B5%D0%B9_%D0%B4%D0%BE%D0%B2%D0%B5%D1%80%D0%B8%D1%82%D0%B5%D0%BB%D1%8C%D0%BD%D1%8B%D0%B9_%D0%B8%D0%BD%D1%82%D0%B5%D1%80%D0%B2%D0%B0%D0%BB.ipynb\" target=\"_parent\"><img src=\"https://colab.research.google.com/assets/colab-badge.svg\" alt=\"Open In Colab\"/></a>"
      ]
    },
    {
      "cell_type": "markdown",
      "source": [
        "**Доверительные интервалы: теория и практика на Python**\n",
        "\n",
        "**Теоретическая часть**\n",
        "\n",
        "**Что такое доверительный интервал?**\n",
        "\n",
        "*Доверительный интервал* - это диапазон значений, который с заданной вероятностью (уровнем доверия) содержит истинное значение оцениваемого параметра генеральной совокупности.\n",
        "\n",
        "Основные понятия  \n",
        "\n",
        "Точечная оценка - единичное значение, оценивающее параметр (например, выборочное среднее)\n",
        "\n",
        "Интервальная оценка - диапазон значений, содержащий параметр с заданной вероятностью\n",
        "\n",
        "Уровень доверия (1-α) - вероятность того, что интервал содержит истинный параметр (обычно 95% или 99%)\n",
        "\n",
        "Ошибка оценки - полуширина доверительного интервала\n",
        "\n",
        "***Формулы для различных доверительных интервалов***\n",
        "\n",
        "1. Для среднего при известной дисперсии (Z-интервал)  \n",
        "![image.png](data:image/png;base64,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)"
      ],
      "metadata": {
        "id": "nUZCQ7VxkRj4"
      }
    },
    {
      "cell_type": "markdown",
      "source": [
        "2. Для среднего при неизвестной дисперсии (t-интервал)  \n",
        "![image.png](data:image/png;base64,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)"
      ],
      "metadata": {
        "id": "bp7F21anlwcw"
      }
    },
    {
      "cell_type": "markdown",
      "source": [
        "3. Для пропорции  \n",
        "![image.png](data:image/png;base64,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)"
      ],
      "metadata": {
        "id": "279zupfWmDrh"
      }
    },
    {
      "cell_type": "markdown",
      "source": [
        "4. Для разницы средних  \n",
        "![image.png](data:image/png;base64,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)"
      ],
      "metadata": {
        "id": "dZaKW11RqLNq"
      }
    },
    {
      "cell_type": "markdown",
      "source": [
        "**Задача на доверительный интервал. Сигма ГС известна.**  \n",
        "\n",
        "Известно, что генеральная совокупность распределена нормально со средним квадратичным  5. Найти доверительный интервал для оценки среднего арифметического с надежностью 0,95, если выборочная средняя М = 24.15, а объем выборки 100."
      ],
      "metadata": {
        "id": "KvdrrFRVqS8L"
      }
    },
    {
      "cell_type": "code",
      "execution_count": 2,
      "metadata": {
        "colab": {
          "base_uri": "https://localhost:8080/"
        },
        "id": "LACjPgoskKTD",
        "outputId": "e7be8c3b-280f-49eb-f870-ac65de7b9efa"
      },
      "outputs": [
        {
          "output_type": "stream",
          "name": "stdout",
          "text": [
            "Задача 1: Доверительный интервал для среднего (известная дисперсия)\n",
            "Выборочное среднее: 24.15 см\n",
            "Стандартное отклонение: 5 см\n",
            "Размер выборки: 100\n",
            "Z-критическое значение: 1.9600\n",
            "Стандартная ошибка: 0.5000\n",
            "95% доверительный интервал: (23.17, 25.13) см\n",
            "Интерпретация: С вероятностью 95% интервал [ 23.17 и 25.13 ] захватит истинное математическое ожидание\n"
          ]
        }
      ],
      "source": [
        "import numpy as np\n",
        "from scipy import stats\n",
        "\n",
        "# Данные\n",
        "x_bar = 24.15  # выборочное среднее\n",
        "sigma = 5    # известное стандартное отклонение ГС\n",
        "n = 100       # размер выборки\n",
        "confidence_level = 0.95  # уровень доверия\n",
        "\n",
        "# Z-критическое значение\n",
        "alpha = 1 - confidence_level\n",
        "z_critical = stats.norm.ppf(1 - alpha/2)\n",
        "\n",
        "# Стандартная ошибка среднего\n",
        "se = sigma / np.sqrt(n)\n",
        "\n",
        "# Доверительный интервал\n",
        "ci_low = x_bar - z_critical * se\n",
        "ci_high = x_bar + z_critical * se\n",
        "\n",
        "print(\"Задача 1: Доверительный интервал для среднего (известная дисперсия)\")\n",
        "print(f\"Выборочное среднее: {x_bar} см\")\n",
        "print(f\"Стандартное отклонение: {sigma} см\")\n",
        "print(f\"Размер выборки: {n}\")\n",
        "print(f\"Z-критическое значение: {z_critical:.4f}\")\n",
        "print(f\"Стандартная ошибка: {se:.4f}\")\n",
        "print(f\"95% доверительный интервал: ({ci_low:.2f}, {ci_high:.2f}) см\")\n",
        "print(f\"Интерпретация: С вероятностью 95% интервал [ {ci_low:.2f} и {ci_high:.2f} ] захватит истинное математическое ожидание\")"
      ]
    },
    {
      "cell_type": "markdown",
      "source": [
        "**Задача на доверительный интервал. Сигма ГС неизвестна.**  \n",
        "Давайте рассмотрим пример в Python. У нас будет дана выборка а – рост десяти  человек.\n"
      ],
      "metadata": {
        "id": "x3i5pkdc-my8"
      }
    },
    {
      "cell_type": "code",
      "source": [
        "import numpy as np\n",
        "from scipy import stats\n",
        "\n",
        "a = np.array([178, 184, 149, 193, 186, 173, 169, 175, 159, 174])\n",
        "n = len(a)\n",
        "x_mean = np.mean(a) # среднее выборочное\n",
        "d = np.var(a, ddof=1) # несмещенная диспресия\n",
        "confidence_level = 0.95  # уровень доверия\n",
        "\n",
        "alpha = 1 - confidence_level\n",
        "t_critical = stats.t.ppf(1 - alpha / 2, 9)\n",
        "# Доверительный интервал\n",
        "ci_low = x_mean - t_critical * np.sqrt(d/10)\n",
        "ci_high = x_mean + t_critical * np.sqrt(d/10)\n",
        "\n",
        "print(\"Задача 2: Доверительный интервал для среднего (неизвестная дисперсия)\")\n",
        "print(f\"Выборочное среднее: {x_mean} см\")\n",
        "print(f\"Размер выборки: {n}\")\n",
        "print(f\"t-критическое значение: {t_critical:.4f}\")\n",
        "print(f\"Стандартная ошибка среднего: {np.sqrt(d):.4f}\")\n",
        "print(f\"95% доверительный интервал: ({ci_low:.2f}, {ci_high:.2f}) см\")\n",
        "print(f\"Интерпретация: С вероятностью 95% интервал [ {ci_low:.2f} и {ci_high:.2f} ] захватит истинное математическое ожидание\")\n",
        "print(d)"
      ],
      "metadata": {
        "colab": {
          "base_uri": "https://localhost:8080/"
        },
        "id": "Vv661dB-6zoM",
        "outputId": "ea2c7aa4-01ab-43a7-b856-b442ad0b1f48"
      },
      "execution_count": 9,
      "outputs": [
        {
          "output_type": "stream",
          "name": "stdout",
          "text": [
            "Задача 2: Доверительный интервал для среднего (неизвестная дисперсия)\n",
            "Выборочное среднее: 174.0 см\n",
            "Размер выборки: 10\n",
            "t-критическое значение: 2.2622\n",
            "Стандартная ошибка среднего: 12.9013\n",
            "95% доверительный интервал: (164.77, 183.23) см\n",
            "Интерпретация: С вероятностью 95% интервал [ 164.77 и 183.23 ] захватит истинное математическое ожидание\n",
            "166.44444444444446\n"
          ]
        }
      ]
    }
  ]
}